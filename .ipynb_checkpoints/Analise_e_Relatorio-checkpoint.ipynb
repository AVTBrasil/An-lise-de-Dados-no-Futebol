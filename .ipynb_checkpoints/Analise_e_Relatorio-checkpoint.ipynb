{
 "cells": [
  {
   "cell_type": "markdown",
   "metadata": {},
   "source": [
    "#                    Análise de Dados no Futebol #"
   ]
  },
  {
   "cell_type": "markdown",
   "metadata": {},
   "source": [
    "### Integrantes do projeto:\n",
    "\n",
    "    Antônio Victor\n",
    "    Eduardo Gomes Meneses Filho\n",
    "    Jéssica Rangel de Jesus\n",
    "    Rafael Lima Barbosa"
   ]
  },
  {
   "cell_type": "markdown",
   "metadata": {},
   "source": [
    "##                    1. Motivação e Objetivos da Análise"
   ]
  },
  {
   "cell_type": "markdown",
   "metadata": {},
   "source": [
    "    Sendo um esporte de alto rendimento, o futebol [...]\n",
    "    Objetivo: Investigar os resultados de desempenho dos times de futebol brasileiro, analisar os investimentos realizados e as receitas acumuladas e comparar como estes fatores afetam a aderencia dos torcedores.\n"
   ]
  },
  {
   "cell_type": "markdown",
   "metadata": {},
   "source": [
    "##                    2. Datasets Utilizados"
   ]
  },
  {
   "cell_type": "markdown",
   "metadata": {},
   "source": [
    "Foram utilizados arquivos CSV organizados como: \n",
    "    \n",
    "    - Dados dos Clubes:\n",
    "        - Tabelas_clube\n",
    "        \n",
    "    - Dados Financeiros:\n",
    "        - Receitas_do_Futebol\n",
    "        - Valor_time\n",
    "        - Valor_Jogador\n",
    "        \n",
    "    - Dados de Torcidas:\n",
    "        - Torcida.csv"
   ]
  },
  {
   "cell_type": "markdown",
   "metadata": {},
   "source": [
    "Para a visualização das tabelas a seguir, foi utilizado a biblioteca \"pandas\""
   ]
  },
  {
   "cell_type": "code",
   "execution_count": 91,
   "metadata": {},
   "outputs": [],
   "source": [
    "import pandas as pd"
   ]
  },
  {
   "cell_type": "markdown",
   "metadata": {},
   "source": [
    "###   2.1.1 Dados dos Clubes"
   ]
  },
  {
   "cell_type": "markdown",
   "metadata": {},
   "source": [
    "A seguir, faremos a importação e visualização dos respectivos datasets que estão localizados no github:"
   ]
  },
  {
   "cell_type": "code",
   "execution_count": 92,
   "metadata": {},
   "outputs": [
    {
     "data": {
      "text/html": [
       "<div>\n",
       "<style scoped>\n",
       "    .dataframe tbody tr th:only-of-type {\n",
       "        vertical-align: middle;\n",
       "    }\n",
       "\n",
       "    .dataframe tbody tr th {\n",
       "        vertical-align: top;\n",
       "    }\n",
       "\n",
       "    .dataframe thead th {\n",
       "        text-align: right;\n",
       "    }\n",
       "</style>\n",
       "<table border=\"1\" class=\"dataframe\">\n",
       "  <thead>\n",
       "    <tr style=\"text-align: right;\">\n",
       "      <th></th>\n",
       "      <th>Ano</th>\n",
       "      <th>Pos.</th>\n",
       "      <th>Clubes</th>\n",
       "      <th>Vitorias</th>\n",
       "      <th>Derrotas</th>\n",
       "      <th>Empates</th>\n",
       "      <th>GolsF/S</th>\n",
       "      <th>Saldo</th>\n",
       "      <th>Qtd_Jogadores</th>\n",
       "      <th>Idade_Media</th>\n",
       "      <th>Estrangeiros</th>\n",
       "      <th>Valor_total</th>\n",
       "      <th>Media_Valor</th>\n",
       "      <th>Unnamed: 13</th>\n",
       "      <th>Unnamed: 14</th>\n",
       "      <th>Unnamed: 15</th>\n",
       "      <th>Unnamed: 16</th>\n",
       "    </tr>\n",
       "  </thead>\n",
       "  <tbody>\n",
       "    <tr>\n",
       "      <th>0</th>\n",
       "      <td>2017</td>\n",
       "      <td>18</td>\n",
       "      <td>America-MG</td>\n",
       "      <td>10</td>\n",
       "      <td>10</td>\n",
       "      <td>18</td>\n",
       "      <td>30:47</td>\n",
       "      <td>-17</td>\n",
       "      <td>51</td>\n",
       "      <td>24,8</td>\n",
       "      <td>0</td>\n",
       "      <td>27350000</td>\n",
       "      <td>536000</td>\n",
       "      <td>NaN</td>\n",
       "      <td>NaN</td>\n",
       "      <td>NaN</td>\n",
       "      <td>NaN</td>\n",
       "    </tr>\n",
       "    <tr>\n",
       "      <th>1</th>\n",
       "      <td>2017</td>\n",
       "      <td>7</td>\n",
       "      <td>Athletico-PR</td>\n",
       "      <td>16</td>\n",
       "      <td>9</td>\n",
       "      <td>13</td>\n",
       "      <td>54:37</td>\n",
       "      <td>17</td>\n",
       "      <td>52</td>\n",
       "      <td>24</td>\n",
       "      <td>3</td>\n",
       "      <td>37650000</td>\n",
       "      <td>724000</td>\n",
       "      <td>NaN</td>\n",
       "      <td>NaN</td>\n",
       "      <td>NaN</td>\n",
       "      <td>NaN</td>\n",
       "    </tr>\n",
       "    <tr>\n",
       "      <th>2</th>\n",
       "      <td>2017</td>\n",
       "      <td>6</td>\n",
       "      <td>Atletico-MG</td>\n",
       "      <td>17</td>\n",
       "      <td>8</td>\n",
       "      <td>13</td>\n",
       "      <td>56:43</td>\n",
       "      <td>13</td>\n",
       "      <td>50</td>\n",
       "      <td>23,4</td>\n",
       "      <td>6</td>\n",
       "      <td>61350000</td>\n",
       "      <td>1230000</td>\n",
       "      <td>NaN</td>\n",
       "      <td>NaN</td>\n",
       "      <td>NaN</td>\n",
       "      <td>NaN</td>\n",
       "    </tr>\n",
       "    <tr>\n",
       "      <th>3</th>\n",
       "      <td>2017</td>\n",
       "      <td>11</td>\n",
       "      <td>Bahia</td>\n",
       "      <td>12</td>\n",
       "      <td>12</td>\n",
       "      <td>14</td>\n",
       "      <td>39:41</td>\n",
       "      <td>-2</td>\n",
       "      <td>48</td>\n",
       "      <td>23,2</td>\n",
       "      <td>2</td>\n",
       "      <td>34900000</td>\n",
       "      <td>727000</td>\n",
       "      <td>NaN</td>\n",
       "      <td>NaN</td>\n",
       "      <td>NaN</td>\n",
       "      <td>NaN</td>\n",
       "    </tr>\n",
       "    <tr>\n",
       "      <th>4</th>\n",
       "      <td>2017</td>\n",
       "      <td>9</td>\n",
       "      <td>Botafogo</td>\n",
       "      <td>13</td>\n",
       "      <td>12</td>\n",
       "      <td>13</td>\n",
       "      <td>38:46</td>\n",
       "      <td>-8</td>\n",
       "      <td>45</td>\n",
       "      <td>23,1</td>\n",
       "      <td>4</td>\n",
       "      <td>25550000</td>\n",
       "      <td>568000</td>\n",
       "      <td>NaN</td>\n",
       "      <td>NaN</td>\n",
       "      <td>NaN</td>\n",
       "      <td>NaN</td>\n",
       "    </tr>\n",
       "  </tbody>\n",
       "</table>\n",
       "</div>"
      ],
      "text/plain": [
       "    Ano  Pos.        Clubes  Vitorias  Derrotas  Empates GolsF/S  Saldo  \\\n",
       "0  2017    18    America-MG        10        10       18   30:47    -17   \n",
       "1  2017     7  Athletico-PR        16         9       13   54:37     17   \n",
       "2  2017     6   Atletico-MG        17         8       13   56:43     13   \n",
       "3  2017    11         Bahia        12        12       14   39:41     -2   \n",
       "4  2017     9      Botafogo        13        12       13   38:46     -8   \n",
       "\n",
       "   Qtd_Jogadores Idade_Media  Estrangeiros  Valor_total  Media_Valor  \\\n",
       "0             51        24,8             0     27350000       536000   \n",
       "1             52          24             3     37650000       724000   \n",
       "2             50        23,4             6     61350000      1230000   \n",
       "3             48        23,2             2     34900000       727000   \n",
       "4             45        23,1             4     25550000       568000   \n",
       "\n",
       "   Unnamed: 13  Unnamed: 14 Unnamed: 15  Unnamed: 16  \n",
       "0          NaN          NaN         NaN          NaN  \n",
       "1          NaN          NaN         NaN          NaN  \n",
       "2          NaN          NaN         NaN          NaN  \n",
       "3          NaN          NaN         NaN          NaN  \n",
       "4          NaN          NaN         NaN          NaN  "
      ]
     },
     "execution_count": 92,
     "metadata": {},
     "output_type": "execute_result"
    }
   ],
   "source": [
    "#Importação dos dados\n",
    "url = 'https://github.com/AVTBrasil/An-lise-de-Dados-no-Futebol/raw/main/tabela_clubes.csv'\n",
    "dados = pd.read_csv(url)\n",
    "dados.head()"
   ]
  },
  {
   "cell_type": "markdown",
   "metadata": {},
   "source": [
    "### 2.1.2 Dados Financeiros"
   ]
  },
  {
   "cell_type": "code",
   "execution_count": 93,
   "metadata": {},
   "outputs": [
    {
     "data": {
      "text/html": [
       "<div>\n",
       "<style scoped>\n",
       "    .dataframe tbody tr th:only-of-type {\n",
       "        vertical-align: middle;\n",
       "    }\n",
       "\n",
       "    .dataframe tbody tr th {\n",
       "        vertical-align: top;\n",
       "    }\n",
       "\n",
       "    .dataframe thead th {\n",
       "        text-align: right;\n",
       "    }\n",
       "</style>\n",
       "<table border=\"1\" class=\"dataframe\">\n",
       "  <thead>\n",
       "    <tr style=\"text-align: right;\">\n",
       "      <th></th>\n",
       "      <th>tipo</th>\n",
       "      <th>receita</th>\n",
       "    </tr>\n",
       "  </thead>\n",
       "  <tbody>\n",
       "    <tr>\n",
       "      <th>0</th>\n",
       "      <td>Direitos de Tv e Premiações</td>\n",
       "      <td>3.000</td>\n",
       "    </tr>\n",
       "    <tr>\n",
       "      <th>1</th>\n",
       "      <td>Transferências de Atletas</td>\n",
       "      <td>1.400</td>\n",
       "    </tr>\n",
       "    <tr>\n",
       "      <th>2</th>\n",
       "      <td>Marketing</td>\n",
       "      <td>1.200</td>\n",
       "    </tr>\n",
       "    <tr>\n",
       "      <th>3</th>\n",
       "      <td>Bilheteria</td>\n",
       "      <td>0.599</td>\n",
       "    </tr>\n",
       "    <tr>\n",
       "      <th>4</th>\n",
       "      <td>Socio torcedor</td>\n",
       "      <td>0.505</td>\n",
       "    </tr>\n",
       "  </tbody>\n",
       "</table>\n",
       "</div>"
      ],
      "text/plain": [
       "                          tipo   receita\n",
       "0  Direitos de Tv e Premiações     3.000\n",
       "1    Transferências de Atletas     1.400\n",
       "2                    Marketing     1.200\n",
       "3                   Bilheteria     0.599\n",
       "4               Socio torcedor     0.505"
      ]
     },
     "execution_count": 93,
     "metadata": {},
     "output_type": "execute_result"
    }
   ],
   "source": [
    "#Importação dos dados\n",
    "url = 'https://github.com/AVTBrasil/An-lise-de-Dados-no-Futebol/raw/main/receitas_do_futebol.csv'\n",
    "dadosf1 = pd.read_csv(url)\n",
    "dadosf1.head()"
   ]
  },
  {
   "cell_type": "code",
   "execution_count": 94,
   "metadata": {},
   "outputs": [
    {
     "data": {
      "text/html": [
       "<div>\n",
       "<style scoped>\n",
       "    .dataframe tbody tr th:only-of-type {\n",
       "        vertical-align: middle;\n",
       "    }\n",
       "\n",
       "    .dataframe tbody tr th {\n",
       "        vertical-align: top;\n",
       "    }\n",
       "\n",
       "    .dataframe thead th {\n",
       "        text-align: right;\n",
       "    }\n",
       "</style>\n",
       "<table border=\"1\" class=\"dataframe\">\n",
       "  <thead>\n",
       "    <tr style=\"text-align: right;\">\n",
       "      <th></th>\n",
       "      <th>Clube</th>\n",
       "      <th>Valor_2023</th>\n",
       "      <th>Valor_2024</th>\n",
       "      <th>%</th>\n",
       "    </tr>\n",
       "  </thead>\n",
       "  <tbody>\n",
       "    <tr>\n",
       "      <th>0</th>\n",
       "      <td>palmeiras</td>\n",
       "      <td>159.95</td>\n",
       "      <td>220.25</td>\n",
       "      <td>37.7</td>\n",
       "    </tr>\n",
       "    <tr>\n",
       "      <th>1</th>\n",
       "      <td>flamengo</td>\n",
       "      <td>161.40</td>\n",
       "      <td>164.50</td>\n",
       "      <td>1.9</td>\n",
       "    </tr>\n",
       "    <tr>\n",
       "      <th>2</th>\n",
       "      <td>corinthians</td>\n",
       "      <td>88.15</td>\n",
       "      <td>113.80</td>\n",
       "      <td>29.1</td>\n",
       "    </tr>\n",
       "    <tr>\n",
       "      <th>3</th>\n",
       "      <td>fluminense</td>\n",
       "      <td>77.30</td>\n",
       "      <td>100.05</td>\n",
       "      <td>42.4</td>\n",
       "    </tr>\n",
       "    <tr>\n",
       "      <th>4</th>\n",
       "      <td>internacional</td>\n",
       "      <td>73.95</td>\n",
       "      <td>100.20</td>\n",
       "      <td>35.5</td>\n",
       "    </tr>\n",
       "  </tbody>\n",
       "</table>\n",
       "</div>"
      ],
      "text/plain": [
       "           Clube  Valor_2023  Valor_2024     %\n",
       "0      palmeiras      159.95      220.25  37.7\n",
       "1       flamengo      161.40      164.50   1.9\n",
       "2    corinthians       88.15      113.80  29.1\n",
       "3     fluminense       77.30      100.05  42.4\n",
       "4  internacional       73.95      100.20  35.5"
      ]
     },
     "execution_count": 94,
     "metadata": {},
     "output_type": "execute_result"
    }
   ],
   "source": [
    "#Importação dos dados\n",
    "url = 'https://github.com/AVTBrasil/An-lise-de-Dados-no-Futebol/raw/main/valor_time.csv'\n",
    "dadosf2 = pd.read_csv(url)\n",
    "dadosf2.head()"
   ]
  },
  {
   "cell_type": "code",
   "execution_count": 95,
   "metadata": {},
   "outputs": [
    {
     "data": {
      "text/html": [
       "<div>\n",
       "<style scoped>\n",
       "    .dataframe tbody tr th:only-of-type {\n",
       "        vertical-align: middle;\n",
       "    }\n",
       "\n",
       "    .dataframe tbody tr th {\n",
       "        vertical-align: top;\n",
       "    }\n",
       "\n",
       "    .dataframe thead th {\n",
       "        text-align: right;\n",
       "    }\n",
       "</style>\n",
       "<table border=\"1\" class=\"dataframe\">\n",
       "  <thead>\n",
       "    <tr style=\"text-align: right;\">\n",
       "      <th></th>\n",
       "      <th>Jogadores</th>\n",
       "      <th>Clube</th>\n",
       "      <th>Valor de mercado</th>\n",
       "      <th>Diferença</th>\n",
       "      <th>%</th>\n",
       "      <th>Nac.</th>\n",
       "      <th>Idade</th>\n",
       "      <th>Dia da alteração</th>\n",
       "    </tr>\n",
       "  </thead>\n",
       "  <tbody>\n",
       "    <tr>\n",
       "      <th>0</th>\n",
       "      <td>Endrick</td>\n",
       "      <td>SE Palmeiras</td>\n",
       "      <td>55.0</td>\n",
       "      <td>10.0</td>\n",
       "      <td>22.2</td>\n",
       "      <td>Brasil</td>\n",
       "      <td>17</td>\n",
       "      <td>28/03/2024</td>\n",
       "    </tr>\n",
       "    <tr>\n",
       "      <th>1</th>\n",
       "      <td>André</td>\n",
       "      <td>Fluminense FC</td>\n",
       "      <td>25.0</td>\n",
       "      <td>0.0</td>\n",
       "      <td>0.0</td>\n",
       "      <td>Brasil</td>\n",
       "      <td>22</td>\n",
       "      <td>28/03/2024</td>\n",
       "    </tr>\n",
       "    <tr>\n",
       "      <th>2</th>\n",
       "      <td>Pedro</td>\n",
       "      <td>CR Flamengo</td>\n",
       "      <td>22.0</td>\n",
       "      <td>0.0</td>\n",
       "      <td>0.0</td>\n",
       "      <td>Brasil</td>\n",
       "      <td>26</td>\n",
       "      <td>28/03/2024</td>\n",
       "    </tr>\n",
       "    <tr>\n",
       "      <th>3</th>\n",
       "      <td>Raphael Veiga</td>\n",
       "      <td>SE Palmeiras</td>\n",
       "      <td>18.0</td>\n",
       "      <td>0.0</td>\n",
       "      <td>0.0</td>\n",
       "      <td>Brasil</td>\n",
       "      <td>28</td>\n",
       "      <td>28/03/2024</td>\n",
       "    </tr>\n",
       "    <tr>\n",
       "      <th>4</th>\n",
       "      <td>Luis Guilherme</td>\n",
       "      <td>SE Palmeiras</td>\n",
       "      <td>17.0</td>\n",
       "      <td>0.0</td>\n",
       "      <td>0.0</td>\n",
       "      <td>Brasil</td>\n",
       "      <td>18</td>\n",
       "      <td>28/03/2024</td>\n",
       "    </tr>\n",
       "  </tbody>\n",
       "</table>\n",
       "</div>"
      ],
      "text/plain": [
       "        Jogadores          Clube  Valor de mercado  Diferença     %    Nac.  \\\n",
       "0         Endrick   SE Palmeiras              55.0       10.0  22.2  Brasil   \n",
       "1           André  Fluminense FC              25.0        0.0   0.0  Brasil   \n",
       "2           Pedro    CR Flamengo              22.0        0.0   0.0  Brasil   \n",
       "3   Raphael Veiga   SE Palmeiras              18.0        0.0   0.0  Brasil   \n",
       "4  Luis Guilherme   SE Palmeiras              17.0        0.0   0.0  Brasil   \n",
       "\n",
       "   Idade Dia da alteração  \n",
       "0     17       28/03/2024  \n",
       "1     22       28/03/2024  \n",
       "2     26       28/03/2024  \n",
       "3     28       28/03/2024  \n",
       "4     18       28/03/2024  "
      ]
     },
     "execution_count": 95,
     "metadata": {},
     "output_type": "execute_result"
    }
   ],
   "source": [
    "#Importação dos dados\n",
    "url = 'https://github.com/AVTBrasil/An-lise-de-Dados-no-Futebol/raw/main/Valor_Jogador.csv'\n",
    "dadosf3 = pd.read_csv(url)\n",
    "dadosf3.head()"
   ]
  },
  {
   "cell_type": "markdown",
   "metadata": {},
   "source": [
    "### 2.1.3 Dados de Torcida"
   ]
  },
  {
   "cell_type": "code",
   "execution_count": 96,
   "metadata": {},
   "outputs": [
    {
     "data": {
      "text/html": [
       "<div>\n",
       "<style scoped>\n",
       "    .dataframe tbody tr th:only-of-type {\n",
       "        vertical-align: middle;\n",
       "    }\n",
       "\n",
       "    .dataframe tbody tr th {\n",
       "        vertical-align: top;\n",
       "    }\n",
       "\n",
       "    .dataframe thead th {\n",
       "        text-align: right;\n",
       "    }\n",
       "</style>\n",
       "<table border=\"1\" class=\"dataframe\">\n",
       "  <thead>\n",
       "    <tr style=\"text-align: right;\">\n",
       "      <th></th>\n",
       "      <th>Clube</th>\n",
       "      <th>Número de Torcedores (milhões)</th>\n",
       "      <th>Percentual (%)</th>\n",
       "    </tr>\n",
       "  </thead>\n",
       "  <tbody>\n",
       "    <tr>\n",
       "      <th>0</th>\n",
       "      <td>Flamengo</td>\n",
       "      <td>46.9</td>\n",
       "      <td>21.9</td>\n",
       "    </tr>\n",
       "    <tr>\n",
       "      <th>1</th>\n",
       "      <td>Corinthians</td>\n",
       "      <td>30.4</td>\n",
       "      <td>14.2</td>\n",
       "    </tr>\n",
       "    <tr>\n",
       "      <th>2</th>\n",
       "      <td>São Paulo</td>\n",
       "      <td>21.2</td>\n",
       "      <td>9.9</td>\n",
       "    </tr>\n",
       "    <tr>\n",
       "      <th>3</th>\n",
       "      <td>Palmeiras</td>\n",
       "      <td>16.5</td>\n",
       "      <td>7.7</td>\n",
       "    </tr>\n",
       "    <tr>\n",
       "      <th>4</th>\n",
       "      <td>Vasco</td>\n",
       "      <td>13.2</td>\n",
       "      <td>6.2</td>\n",
       "    </tr>\n",
       "  </tbody>\n",
       "</table>\n",
       "</div>"
      ],
      "text/plain": [
       "         Clube  Número de Torcedores (milhões)  Percentual (%)\n",
       "0     Flamengo                            46.9            21.9\n",
       "1  Corinthians                            30.4            14.2\n",
       "2    São Paulo                            21.2             9.9\n",
       "3    Palmeiras                            16.5             7.7\n",
       "4        Vasco                            13.2             6.2"
      ]
     },
     "execution_count": 96,
     "metadata": {},
     "output_type": "execute_result"
    }
   ],
   "source": [
    "#Importação dos dados\n",
    "url = 'https://github.com/AVTBrasil/An-lise-de-Dados-no-Futebol/raw/main/Torcida.csv'\n",
    "dadost = pd.read_csv(url)\n",
    "dadost.head()"
   ]
  },
  {
   "cell_type": "markdown",
   "metadata": {},
   "source": [
    "##         3. Pré- processamento: Limpeza e transformação dos datasets"
   ]
  },
  {
   "cell_type": "markdown",
   "metadata": {},
   "source": [
    "    O dataset que necessitou de limpeza antes de sua utilização foi o referente aos dados dos clubes. Nele, fizemos a limpeza de colunas e removemos alguns clubes que apareceram até 3 vezes no arquivo, o que não influenciaria na nossa busca."
   ]
  },
  {
   "cell_type": "code",
   "execution_count": 97,
   "metadata": {},
   "outputs": [],
   "source": [
    "dados = dados.drop(dados.columns[13:17], axis = 1)"
   ]
  },
  {
   "cell_type": "code",
   "execution_count": 98,
   "metadata": {},
   "outputs": [
    {
     "name": "stdout",
     "output_type": "stream",
     "text": [
      "Clubes\n",
      "Santos           10\n",
      "Atletico-MG      10\n",
      "Corinthians      10\n",
      "Cruzeiro         10\n",
      "Flamengo         10\n",
      "Fluminense       10\n",
      "Gremio           10\n",
      "Sao Paulo        10\n",
      "Internacional     9\n",
      "Botafogo          9\n",
      "Athletico-PR      9\n",
      "Palmeiras         9\n",
      "Coritiba          8\n",
      "Vitoria           7\n",
      "Vasco             7\n",
      "Sport             7\n",
      "Bahia             6\n",
      "Goias             5\n",
      "Figueirense       5\n",
      "Chapecoense       5\n",
      "Avai              5\n",
      "Ponte Preta       5\n",
      "Atletico-GO       4\n",
      "Nautico           3\n",
      "America-MG        3\n",
      "Ceara             3\n",
      "Criciuma          2\n",
      "Portuguesa        2\n",
      "Prudente          2\n",
      "Santa Cruz        1\n",
      "Parana            1\n",
      "Joinville         1\n",
      "Guarani           1\n",
      "Santo Andre       1\n",
      "Name: count, dtype: int64\n"
     ]
    }
   ],
   "source": [
    "# Contagem de quantas vezes cada time aparece na coluna 'Clubes'\n",
    "contagem_times = dados['Clubes'].value_counts()\n",
    "\n",
    "print(contagem_times)"
   ]
  },
  {
   "cell_type": "code",
   "execution_count": 99,
   "metadata": {},
   "outputs": [],
   "source": [
    "\n",
    "dados = dados[~dados['Clubes'].isin(['Guarani', 'Nautico','Joinville', 'Prudente', 'Portuguesa', 'Santo Andre', 'Criciuma', 'Avai', \"Coritiba\", 'Figueirense' ])]\n"
   ]
  },
  {
   "cell_type": "markdown",
   "metadata": {},
   "source": [
    "    A seguir, a visualização da tabela após a limpeza de dados desnecessários:"
   ]
  },
  {
   "cell_type": "code",
   "execution_count": 100,
   "metadata": {},
   "outputs": [
    {
     "data": {
      "text/html": [
       "<div>\n",
       "<style scoped>\n",
       "    .dataframe tbody tr th:only-of-type {\n",
       "        vertical-align: middle;\n",
       "    }\n",
       "\n",
       "    .dataframe tbody tr th {\n",
       "        vertical-align: top;\n",
       "    }\n",
       "\n",
       "    .dataframe thead th {\n",
       "        text-align: right;\n",
       "    }\n",
       "</style>\n",
       "<table border=\"1\" class=\"dataframe\">\n",
       "  <thead>\n",
       "    <tr style=\"text-align: right;\">\n",
       "      <th></th>\n",
       "      <th>Ano</th>\n",
       "      <th>Pos.</th>\n",
       "      <th>Clubes</th>\n",
       "      <th>Vitorias</th>\n",
       "      <th>Derrotas</th>\n",
       "      <th>Empates</th>\n",
       "      <th>GolsF/S</th>\n",
       "      <th>Saldo</th>\n",
       "      <th>Qtd_Jogadores</th>\n",
       "      <th>Idade_Media</th>\n",
       "      <th>Estrangeiros</th>\n",
       "      <th>Valor_total</th>\n",
       "      <th>Media_Valor</th>\n",
       "    </tr>\n",
       "  </thead>\n",
       "  <tbody>\n",
       "    <tr>\n",
       "      <th>0</th>\n",
       "      <td>2017</td>\n",
       "      <td>18</td>\n",
       "      <td>America-MG</td>\n",
       "      <td>10</td>\n",
       "      <td>10</td>\n",
       "      <td>18</td>\n",
       "      <td>30:47</td>\n",
       "      <td>-17</td>\n",
       "      <td>51</td>\n",
       "      <td>24,8</td>\n",
       "      <td>0</td>\n",
       "      <td>27350000</td>\n",
       "      <td>536000</td>\n",
       "    </tr>\n",
       "    <tr>\n",
       "      <th>1</th>\n",
       "      <td>2017</td>\n",
       "      <td>7</td>\n",
       "      <td>Athletico-PR</td>\n",
       "      <td>16</td>\n",
       "      <td>9</td>\n",
       "      <td>13</td>\n",
       "      <td>54:37</td>\n",
       "      <td>17</td>\n",
       "      <td>52</td>\n",
       "      <td>24</td>\n",
       "      <td>3</td>\n",
       "      <td>37650000</td>\n",
       "      <td>724000</td>\n",
       "    </tr>\n",
       "    <tr>\n",
       "      <th>2</th>\n",
       "      <td>2017</td>\n",
       "      <td>6</td>\n",
       "      <td>Atletico-MG</td>\n",
       "      <td>17</td>\n",
       "      <td>8</td>\n",
       "      <td>13</td>\n",
       "      <td>56:43</td>\n",
       "      <td>13</td>\n",
       "      <td>50</td>\n",
       "      <td>23,4</td>\n",
       "      <td>6</td>\n",
       "      <td>61350000</td>\n",
       "      <td>1230000</td>\n",
       "    </tr>\n",
       "    <tr>\n",
       "      <th>3</th>\n",
       "      <td>2017</td>\n",
       "      <td>11</td>\n",
       "      <td>Bahia</td>\n",
       "      <td>12</td>\n",
       "      <td>12</td>\n",
       "      <td>14</td>\n",
       "      <td>39:41</td>\n",
       "      <td>-2</td>\n",
       "      <td>48</td>\n",
       "      <td>23,2</td>\n",
       "      <td>2</td>\n",
       "      <td>34900000</td>\n",
       "      <td>727000</td>\n",
       "    </tr>\n",
       "    <tr>\n",
       "      <th>4</th>\n",
       "      <td>2017</td>\n",
       "      <td>9</td>\n",
       "      <td>Botafogo</td>\n",
       "      <td>13</td>\n",
       "      <td>12</td>\n",
       "      <td>13</td>\n",
       "      <td>38:46</td>\n",
       "      <td>-8</td>\n",
       "      <td>45</td>\n",
       "      <td>23,1</td>\n",
       "      <td>4</td>\n",
       "      <td>25550000</td>\n",
       "      <td>568000</td>\n",
       "    </tr>\n",
       "    <tr>\n",
       "      <th>...</th>\n",
       "      <td>...</td>\n",
       "      <td>...</td>\n",
       "      <td>...</td>\n",
       "      <td>...</td>\n",
       "      <td>...</td>\n",
       "      <td>...</td>\n",
       "      <td>...</td>\n",
       "      <td>...</td>\n",
       "      <td>...</td>\n",
       "      <td>...</td>\n",
       "      <td>...</td>\n",
       "      <td>...</td>\n",
       "      <td>...</td>\n",
       "    </tr>\n",
       "    <tr>\n",
       "      <th>193</th>\n",
       "      <td>2008</td>\n",
       "      <td>5</td>\n",
       "      <td>Palmeiras</td>\n",
       "      <td>17</td>\n",
       "      <td>11</td>\n",
       "      <td>10</td>\n",
       "      <td>58:45</td>\n",
       "      <td>13</td>\n",
       "      <td>34</td>\n",
       "      <td>23</td>\n",
       "      <td>2</td>\n",
       "      <td>30550000</td>\n",
       "      <td>899000</td>\n",
       "    </tr>\n",
       "    <tr>\n",
       "      <th>196</th>\n",
       "      <td>2008</td>\n",
       "      <td>12</td>\n",
       "      <td>Santos</td>\n",
       "      <td>12</td>\n",
       "      <td>13</td>\n",
       "      <td>13</td>\n",
       "      <td>58:58</td>\n",
       "      <td>0</td>\n",
       "      <td>33</td>\n",
       "      <td>23,9</td>\n",
       "      <td>1</td>\n",
       "      <td>27850000</td>\n",
       "      <td>844000</td>\n",
       "    </tr>\n",
       "    <tr>\n",
       "      <th>197</th>\n",
       "      <td>2008</td>\n",
       "      <td>3</td>\n",
       "      <td>Sao Paulo</td>\n",
       "      <td>18</td>\n",
       "      <td>11</td>\n",
       "      <td>9</td>\n",
       "      <td>57:42</td>\n",
       "      <td>15</td>\n",
       "      <td>30</td>\n",
       "      <td>23,9</td>\n",
       "      <td>1</td>\n",
       "      <td>46650000</td>\n",
       "      <td>1560000</td>\n",
       "    </tr>\n",
       "    <tr>\n",
       "      <th>198</th>\n",
       "      <td>2008</td>\n",
       "      <td>20</td>\n",
       "      <td>Sport</td>\n",
       "      <td>7</td>\n",
       "      <td>10</td>\n",
       "      <td>21</td>\n",
       "      <td>48:71</td>\n",
       "      <td>-23</td>\n",
       "      <td>30</td>\n",
       "      <td>25</td>\n",
       "      <td>1</td>\n",
       "      <td>15600000</td>\n",
       "      <td>520000</td>\n",
       "    </tr>\n",
       "    <tr>\n",
       "      <th>199</th>\n",
       "      <td>2008</td>\n",
       "      <td>13</td>\n",
       "      <td>Vitoria</td>\n",
       "      <td>13</td>\n",
       "      <td>9</td>\n",
       "      <td>16</td>\n",
       "      <td>51:57</td>\n",
       "      <td>-6</td>\n",
       "      <td>38</td>\n",
       "      <td>24,1</td>\n",
       "      <td>2</td>\n",
       "      <td>13450000</td>\n",
       "      <td>354000</td>\n",
       "    </tr>\n",
       "  </tbody>\n",
       "</table>\n",
       "<p>170 rows × 13 columns</p>\n",
       "</div>"
      ],
      "text/plain": [
       "      Ano  Pos.        Clubes  Vitorias  Derrotas  Empates GolsF/S  Saldo  \\\n",
       "0    2017    18    America-MG        10        10       18   30:47    -17   \n",
       "1    2017     7  Athletico-PR        16         9       13   54:37     17   \n",
       "2    2017     6   Atletico-MG        17         8       13   56:43     13   \n",
       "3    2017    11         Bahia        12        12       14   39:41     -2   \n",
       "4    2017     9      Botafogo        13        12       13   38:46     -8   \n",
       "..    ...   ...           ...       ...       ...      ...     ...    ...   \n",
       "193  2008     5     Palmeiras        17        11       10   58:45     13   \n",
       "196  2008    12        Santos        12        13       13   58:58      0   \n",
       "197  2008     3     Sao Paulo        18        11        9   57:42     15   \n",
       "198  2008    20         Sport         7        10       21   48:71    -23   \n",
       "199  2008    13       Vitoria        13         9       16   51:57     -6   \n",
       "\n",
       "     Qtd_Jogadores Idade_Media  Estrangeiros  Valor_total  Media_Valor  \n",
       "0               51        24,8             0     27350000       536000  \n",
       "1               52          24             3     37650000       724000  \n",
       "2               50        23,4             6     61350000      1230000  \n",
       "3               48        23,2             2     34900000       727000  \n",
       "4               45        23,1             4     25550000       568000  \n",
       "..             ...         ...           ...          ...          ...  \n",
       "193             34          23             2     30550000       899000  \n",
       "196             33        23,9             1     27850000       844000  \n",
       "197             30        23,9             1     46650000      1560000  \n",
       "198             30          25             1     15600000       520000  \n",
       "199             38        24,1             2     13450000       354000  \n",
       "\n",
       "[170 rows x 13 columns]"
      ]
     },
     "execution_count": 100,
     "metadata": {},
     "output_type": "execute_result"
    }
   ],
   "source": [
    "dados"
   ]
  },
  {
   "cell_type": "markdown",
   "metadata": {},
   "source": [
    "    Para a visualização dos dados, foram utilizadas as seguintes bibliotecas:"
   ]
  },
  {
   "cell_type": "code",
   "execution_count": 2,
   "metadata": {},
   "outputs": [
    {
     "ename": "ModuleNotFoundError",
     "evalue": "No module named 'squarify'",
     "output_type": "error",
     "traceback": [
      "\u001b[1;31m---------------------------------------------------------------------------\u001b[0m",
      "\u001b[1;31mModuleNotFoundError\u001b[0m                       Traceback (most recent call last)",
      "Cell \u001b[1;32mIn[2], line 6\u001b[0m\n\u001b[0;32m      4\u001b[0m \u001b[38;5;28;01mimport\u001b[39;00m \u001b[38;5;21;01mseaborn\u001b[39;00m \u001b[38;5;28;01mas\u001b[39;00m \u001b[38;5;21;01msns\u001b[39;00m\n\u001b[0;32m      5\u001b[0m \u001b[38;5;28;01mimport\u001b[39;00m \u001b[38;5;21;01mplotly\u001b[39;00m\u001b[38;5;21;01m.\u001b[39;00m\u001b[38;5;21;01mexpress\u001b[39;00m \u001b[38;5;28;01mas\u001b[39;00m \u001b[38;5;21;01mpx\u001b[39;00m\n\u001b[1;32m----> 6\u001b[0m \u001b[38;5;28;01mimport\u001b[39;00m \u001b[38;5;21;01msquarify\u001b[39;00m\n",
      "\u001b[1;31mModuleNotFoundError\u001b[0m: No module named 'squarify'"
     ]
    }
   ],
   "source": [
    "#Importação das bibliotecas \n",
    "import matplotlib.pyplot as plt\n",
    "import numpy as np\n",
    "import seaborn as sns\n",
    "import plotly.express as px\n",
    "import squarify"
   ]
  },
  {
   "cell_type": "markdown",
   "metadata": {},
   "source": [
    "    Nesta parte, houve a seleção de cores que serão utilizadas nos gráficos."
   ]
  },
  {
   "cell_type": "code",
   "execution_count": null,
   "metadata": {},
   "outputs": [],
   "source": [
    "team_colors = {\n",
    "    \"Palmeiras\": \"#004D40\",  # Verde Escuro\n",
    "    \"Flamengo\": \"#B71C1C\",  # Vermelho Escuro\n",
    "    \"Corinthians\": \"#0D1321\",  # Preto\n",
    "    \"Sao Paulo\": \"#D32F2F\",  # Vermelho\n",
    "    \"Santos\": \"dimgray\",  # Cinza escuro\n",
    "    \"Gremio\": \"blue\",  # Azul\n",
    "    \"Vasco\": \"grey\",  # Cinza\n",
    "    \"Botafogo\": \"#000000\",  # Preto\n",
    "    \"Atletico-MG\": \"#FDD017\",  # Amarelo\n",
    "    \"Cruzeiro\": \"#0033A0\",  # Azul Escuro\n",
    "}"
   ]
  },
  {
   "cell_type": "markdown",
   "metadata": {},
   "source": [
    "    Aqui foi concluído a limpeza do dataset, a importação das bibliotecas utilizadas para a visualização e a seleção de \n",
    "    cores dos gráficos que serão criados."
   ]
  },
  {
   "cell_type": "markdown",
   "metadata": {},
   "source": [
    "## 4. Questões Investigadas"
   ]
  },
  {
   "cell_type": "markdown",
   "metadata": {},
   "source": [
    "    Questões investigadas:\n",
    "    1) \"Existe algum padrão na distribuição de receita dos clubes ?\"\n",
    "    2) \"O que é analisado em um jogador para ele ser valorizado pelo mercado?\"\n",
    "    3) \"Quantidade de torcedores influencia no desempenho esportivo ?\""
   ]
  },
  {
   "cell_type": "markdown",
   "metadata": {},
   "source": [
    "### *Existe algum padrão na distribuição de receita dos clubes ?*"
   ]
  },
  {
   "cell_type": "code",
   "execution_count": 3,
   "metadata": {},
   "outputs": [
    {
     "ename": "ModuleNotFoundError",
     "evalue": "No module named 'squarify'",
     "output_type": "error",
     "traceback": [
      "\u001b[1;31m---------------------------------------------------------------------------\u001b[0m",
      "\u001b[1;31mModuleNotFoundError\u001b[0m                       Traceback (most recent call last)",
      "Cell \u001b[1;32mIn[3], line 1\u001b[0m\n\u001b[1;32m----> 1\u001b[0m \u001b[38;5;28;01mimport\u001b[39;00m \u001b[38;5;21;01msquarify\u001b[39;00m\n\u001b[0;32m      2\u001b[0m dados_agrupados \u001b[38;5;241m=\u001b[39m dadosf1\u001b[38;5;241m.\u001b[39mgroupby(\u001b[38;5;124m'\u001b[39m\u001b[38;5;124mtipo\u001b[39m\u001b[38;5;124m'\u001b[39m)[\u001b[38;5;124m'\u001b[39m\u001b[38;5;124m receita\u001b[39m\u001b[38;5;124m'\u001b[39m]\u001b[38;5;241m.\u001b[39msum()\u001b[38;5;241m.\u001b[39mreset_index()\n\u001b[0;32m      4\u001b[0m \u001b[38;5;66;03m# Calculando o total de receitas\u001b[39;00m\n",
      "\u001b[1;31mModuleNotFoundError\u001b[0m: No module named 'squarify'"
     ]
    }
   ],
   "source": [
    "import squarify\n",
    "dados_agrupados = dadosf1.groupby('tipo')[' receita'].sum().reset_index()\n",
    "\n",
    "# Calculando o total de receitas\n",
    "total_receitas = dados_agrupados[' receita'].sum()\n",
    "\n",
    "# Valores para o tamanho de cada retângulo\n",
    "sizes = dados_agrupados[' receita'].values\n",
    "labels = dados_agrupados['tipo'].apply(lambda x: str(x)).values\n",
    "percentages = [f\"{(value/total_receitas)*100:.2f}%\" for value in sizes]\n",
    "new_labels = [f\"{label}\\n({percent})\" for label, percent in zip(labels, percentages)]\n",
    "\n",
    "# Cores - gerando uma paleta de cores\n",
    "colors = plt.cm.Spectral(np.linspace(0, 1, len(labels)))\n",
    "\n",
    "# Criando o TreeMap\n",
    "plt.figure(figsize=(12, 8))\n",
    "squarify.plot(sizes=sizes, label=new_labels, color=colors, alpha=0.8)\n",
    "\n",
    "# Título do gráfico\n",
    "plt.title('Distribuição de Receita por Tipo')\n",
    "plt.axis('off')  # Desliga os eixos\n",
    "\n",
    "# Mostrar o gráfico\n",
    "plt.show()"
   ]
  },
  {
   "cell_type": "code",
   "execution_count": 5,
   "metadata": {},
   "outputs": [],
   "source": [
    "plt.show()"
   ]
  },
  {
   "cell_type": "markdown",
   "metadata": {},
   "source": [
    "# Gráficos de Boxplot #"
   ]
  },
  {
   "cell_type": "markdown",
   "metadata": {},
   "source": [
    "### *Descrição dos dados utilizados* ###"
   ]
  },
  {
   "cell_type": "code",
   "execution_count": null,
   "metadata": {},
   "outputs": [],
   "source": [
    "dados['Saldo'].describe()"
   ]
  },
  {
   "cell_type": "code",
   "execution_count": null,
   "metadata": {},
   "outputs": [],
   "source": [
    "dados[['Vitorias', 'Empates', 'Derrotas']].describe()"
   ]
  },
  {
   "cell_type": "code",
   "execution_count": null,
   "metadata": {},
   "outputs": [],
   "source": [
    "dados['Idade_Media'].describe()"
   ]
  },
  {
   "cell_type": "code",
   "execution_count": null,
   "metadata": {},
   "outputs": [],
   "source": [
    "# Criar boxplot para 'Saldo'\n",
    "plt.figure(figsize = (8,4))\n",
    "sns.boxplot(data = df['Saldo'], width = 0.3, color = 'grey', boxprops=dict(edgecolor='black'))\n",
    "sns.stripplot(data=  df['Saldo'], color = 'darkblue', alpha = 0.5)\n",
    "\n",
    "plt.xlabel('Saldo', fontweight = 'bold')\n",
    "plt.title('Boxplot de Saldo', fontsize = 20,fontweight = 'bold')\n",
    "plt.show()\n"
   ]
  },
  {
   "cell_type": "markdown",
   "metadata": {},
   "source": [
    "#### *Filtrando dados* #### "
   ]
  },
  {
   "cell_type": "code",
   "execution_count": null,
   "metadata": {},
   "outputs": [],
   "source": [
    "clubes_mostrados = ['Palmeiras', 'Flamengo', 'Corinthians',\n",
    "                     'Sao Paulo', 'Santos', 'Gremio', 'Vasco', \n",
    "                     'Botafogo', 'Atletico-MG', 'Cruzeiro']\n",
    "df_filtrado = df[df['Clubes'].isin(clubes_mostrados)]"
   ]
  },
  {
   "cell_type": "code",
   "execution_count": null,
   "metadata": {},
   "outputs": [],
   "source": [
    "plt.figure(figsize=(16,8))\n",
    "\n",
    "sns.boxplot(x= 'Clubes', y = 'Saldo', data=df_filtrado, palette = team_colors)\n",
    "\n",
    "plt.title('Boxplot Saldo por Clube', fontsize = 20)\n",
    "plt.show()"
   ]
  },
  {
   "cell_type": "code",
   "execution_count": null,
   "metadata": {},
   "outputs": [],
   "source": [
    "\n",
    "plt.figure(figsize=(10, 6))\n",
    "\n",
    "box = plt.boxplot([df['Vitorias'], df['Empates'], df['Derrotas']], patch_artist=True, positions=[1, 2, 3])\n",
    "\n",
    "colors = ['green', 'yellow', 'red']\n",
    "\n",
    "for patch, color in zip(box['boxes'], colors):\n",
    "    patch.set_facecolor(color)\n",
    "\n",
    "plt.title('Boxplot de Vitórias, Empates e Derrotas')\n",
    "plt.ylabel('Número de Partidas')\n",
    "plt.xticks([1, 2, 3], ['Vitórias', 'Empates', 'Derrotas'])\n",
    "\n",
    "plt.show()\n"
   ]
  },
  {
   "cell_type": "code",
   "execution_count": null,
   "metadata": {},
   "outputs": [],
   "source": [
    "plt.figure(figsize=(16,8))\n",
    "\n",
    "sns.boxplot(x= 'Clubes', y = 'Vitorias', data=df_filtrado, palette = team_colors)\n",
    "\n",
    "plt.title('Boxplot Vitorias por Clube', fontsize = 20)\n",
    "plt.xlabel(\"Clubes\", fontsize = 14)\n",
    "plt.ylabel(\"Vitórias\", fontsize = 14)\n",
    "plt.show()"
   ]
  },
  {
   "cell_type": "code",
   "execution_count": null,
   "metadata": {},
   "outputs": [],
   "source": [
    "plt.figure(figsize=(16,8))\n",
    "\n",
    "sns.boxplot(x= 'Clubes', y = 'Empates', data=df_filtrado, palette = team_colors)\n",
    "\n",
    "plt.title('Boxplot Empates por Clube', fontsize = 20)\n",
    "plt.xlabel(\"Clubes\", fontsize = 14)\n",
    "plt.ylabel(\"Empates\", fontsize = 14)\n",
    "\n",
    "plt.show()"
   ]
  },
  {
   "cell_type": "code",
   "execution_count": null,
   "metadata": {},
   "outputs": [],
   "source": [
    "plt.figure(figsize=(16,8))\n",
    "\n",
    "sns.boxplot(x= 'Clubes', y = 'Derrotas', data=df_filtrado, palette = team_colors)\n",
    "\n",
    "plt.title('Boxplot Derrotas por Clube', fontsize = 20)\n",
    "plt.xlabel(\"Clubes\", fontsize = 14)\n",
    "plt.ylabel(\"Derrotas\", fontsize = 14)\n",
    "plt.show()"
   ]
  },
  {
   "cell_type": "code",
   "execution_count": null,
   "metadata": {},
   "outputs": [],
   "source": [
    "plt.figure(figsize=(16, 8))\n",
    "\n",
    "sns.boxplot(y = \"Clubes\", x = \"Vitorias\", data = df_filtrado, orient = 'h', palette = team_colors)\n",
    "\n",
    "plt.title('Boxplot de Vitórias de cada clube ao Longo dos anos', fontsize = 20)\n",
    "plt.xlabel('Número de vitórias', fontsize = 14)\n",
    "plt.ylabel('Clubes', fontsize = 14)\n",
    "\n",
    "plt.show()"
   ]
  },
  {
   "cell_type": "code",
   "execution_count": null,
   "metadata": {},
   "outputs": [],
   "source": [
    "plt.figure(figsize=(16, 8))\n",
    "\n",
    "sns.boxplot(y = \"Clubes\", x = \"Empates\", data = df_filtrado, orient = 'h', palette = team_colors)\n",
    "\n",
    "plt.title('Boxplot de Empates de cada ao Longo dos anos', fontsize = 20)\n",
    "plt.xlabel('Número de Empates', fontsize = 14)\n",
    "plt.ylabel('Clubes', fontsize = 14)\n",
    "\n",
    "plt.show()"
   ]
  },
  {
   "cell_type": "code",
   "execution_count": null,
   "metadata": {},
   "outputs": [],
   "source": [
    "plt.figure(figsize=(16, 8))\n",
    "\n",
    "sns.boxplot(y = \"Clubes\", x = \"Derrotas\", data = df_filtrado, orient = 'h', palette = team_colors)\n",
    "\n",
    "plt.title('Boxplot de Derrotas de cada clube ao Longo dos anos', fontsize = 20)\n",
    "plt.xlabel('Número de derrotas', fontsize = 14)\n",
    "plt.ylabel('Clubes', fontsize = 14)\n",
    "\n",
    "plt.show()"
   ]
  },
  {
   "cell_type": "markdown",
   "metadata": {},
   "source": [
    "# *Mudanca de posições ao longo do tempo* # "
   ]
  },
  {
   "cell_type": "code",
   "execution_count": null,
   "metadata": {},
   "outputs": [],
   "source": [
    "from matplotlib.ticker import MaxNLocator\n",
    "\n",
    "plt.figure(figsize=(14,7))\n",
    "sns.lineplot(data = df_filtrado, x = \"Ano\", y = \"Pos.\", \n",
    "             hue = \"Clubes\",marker = \"o\", markersize=10,palette = team_colors, linewidth = 2)\n",
    "\n",
    "plt.title(\"A posição de cada time no campeonato brasileiro\",fontsize = 20)\n",
    "plt.xlabel(\"Ano\",fontsize = 20)\n",
    "plt.ylabel(\"Posição\",fontsize = 20)\n",
    "plt.gca().invert_yaxis()\n",
    "plt.grid(True)\n",
    "\n",
    "plt.gca().yaxis.set_major_locator(MaxNLocator(integer=True))\n",
    "\n",
    "plt.legend(title=\"Clubes\", loc='upper left', bbox_to_anchor=(1.05, 1), fontsize=12)\n",
    "\n",
    "plt.tight_layout()\n",
    "\n",
    "plt.show()\n",
    "    "
   ]
  },
  {
   "cell_type": "code",
   "execution_count": null,
   "metadata": {},
   "outputs": [],
   "source": [
    "fig = px.line(df_filtrado, x='Ano', y ='Saldo', color= 'Clubes', color_discrete_map = team_colors)\n",
    "fig.update_layout(title =\"Clubes e seu saldo de pontos ao longo dos anos\",\n",
    "                   title_x = 0.5, title_font=dict(size=24),\n",
    "                   width=800, height=600)\n",
    "fig.show()"
   ]
  },
  {
   "cell_type": "markdown",
   "metadata": {},
   "source": [
    "# Gráficos de histogramas #"
   ]
  },
  {
   "cell_type": "code",
   "execution_count": null,
   "metadata": {},
   "outputs": [],
   "source": [
    "# Criar histograma para 'Vitorias'\n",
    "plt.hist(df['Vitorias'], bins=10, color='limegreen', edgecolor='black')\n",
    "plt.xlabel('Vitórias')\n",
    "plt.ylabel('Frequência')\n",
    "plt.title('Histograma de Vitórias')\n",
    "plt.show()\n"
   ]
  },
  {
   "cell_type": "code",
   "execution_count": null,
   "metadata": {},
   "outputs": [],
   "source": [
    "# Criar histograma para 'Empates'\n",
    "plt.hist(df['Empates'], bins=10, color='yellow', edgecolor='black')\n",
    "plt.xlabel('Empates')\n",
    "plt.ylabel('Frequência')\n",
    "plt.title('Histograma de Empates')\n",
    "plt.show()\n"
   ]
  },
  {
   "cell_type": "code",
   "execution_count": null,
   "metadata": {},
   "outputs": [],
   "source": [
    "# Criar histograma para 'Derrotas'\n",
    "plt.hist(df['Derrotas'], bins=10, color='red', edgecolor='black')\n",
    "plt.xlabel('Derrotas')\n",
    "plt.ylabel('Frequência')\n",
    "plt.title('Histograma de Derrotas')\n",
    "plt.show()\n"
   ]
  },
  {
   "cell_type": "code",
   "execution_count": null,
   "metadata": {},
   "outputs": [],
   "source": [
    "import numpy as np\n",
    "import matplotlib.pyplot as plt\n",
    "\n",
    "np.random.seed(0)\n",
    "idade_media = np.random.uniform(low=20, high=40, size=100)\n",
    "\n",
    "plt.figure(figsize = (10,6))\n",
    "plt.hist(idade_media, bins=20, color='skyblue', edgecolor='black')\n",
    "\n",
    "plt.xticks(np.arange(int(np.min(idade_media)), int(np.max(idade_media)) + 1, 1))\n",
    "\n",
    "plt.xlabel('Idade Média', fontsize = 14)\n",
    "plt.ylabel('Frequência', fontsize = 14)\n",
    "plt.title('Histograma da Média da idade dos clubes', fontsize = 20)\n",
    "plt.show()\n"
   ]
  },
  {
   "cell_type": "markdown",
   "metadata": {},
   "source": [
    "## *Separando valores da mesma coluna* ##"
   ]
  },
  {
   "cell_type": "code",
   "execution_count": null,
   "metadata": {},
   "outputs": [],
   "source": [
    "df[['GolsMarcados', 'GolsSofridos']] = df['GolsF/S'].str.split(':', expand=True).astype(int)\n"
   ]
  },
  {
   "cell_type": "code",
   "execution_count": null,
   "metadata": {},
   "outputs": [],
   "source": [
    "plt.figure(figsize=(10, 6))\n",
    "sns.histplot(df_jogador[\"Valor de mercado\"],color = '#006b76', bins = 20)\n",
    "plt.title('Distribuição de valor de mercado dos Jogadores da Serie A', size=24)  \n",
    "plt.xlabel('Valor de mercado (em milhões de euros)', size=18)\n",
    "plt.ylabel('Frequência', size=18)\n",
    "\n",
    "plt.xticks(fontsize=12)  \n",
    "plt.yticks(fontsize=12)\n",
    "plt.tight_layout()\n",
    "plt.show()\n"
   ]
  },
  {
   "cell_type": "code",
   "execution_count": null,
   "metadata": {},
   "outputs": [],
   "source": [
    "# Criar histograma para o valor dos times\n",
    "plt.figure(figsize=(10,6))\n",
    "plt.hist(df_valor_time['Valor_2024'], bins=10, color='forestgreen', edgecolor='black')\n",
    "plt.xlabel('Valor em milhões de euros em 2024', fontsize = 18)\n",
    "plt.ylabel('Frequência', fontsize = 18)\n",
    "plt.title('Histograma do valor dos times', fontsize = 18)\n",
    "plt.show()\n"
   ]
  },
  {
   "cell_type": "markdown",
   "metadata": {},
   "source": [
    "## *Gráficos de correlação* ##"
   ]
  },
  {
   "cell_type": "code",
   "execution_count": null,
   "metadata": {},
   "outputs": [],
   "source": [
    "\n",
    "colunas_selecionadas = ['Vitorias', 'Empates', 'Derrotas', 'Saldo', 'Valor_total', 'Media_Valor', 'Qtd_Jogadores']\n",
    "df_selecionado = df[colunas_selecionadas]\n",
    "\n",
    "# Criando o mapa de calor da correlação das colunas selecionadas\n",
    "plt.figure(figsize=(8, 4))\n",
    "sns.heatmap(df_selecionado.corr(), annot=True, cmap=\"seismic\", cbar_kws={'label': 'Nível de Correlação'})\n",
    "\n",
    "# Adicionando título com ajustes de fonte\n",
    "plt.title(\"Correlação entre Variáveis de Desempenho e Financeiras\", fontsize=20, fontweight='bold')\n",
    "\n",
    "plt.show()\n"
   ]
  },
  {
   "cell_type": "code",
   "execution_count": null,
   "metadata": {},
   "outputs": [],
   "source": [
    "# Criar scatterplot para Valor_total vs. Media_Valor\n",
    "plt.figure(figsize=(10, 6))\n",
    "sns.set(style=\"whitegrid\")\n",
    "plt.scatter(df['Valor_total'], df['Media_Valor'], \n",
    "            alpha = 0.6, edgecolor = \"w\", color = \"darkblue\")\n",
    "\n",
    "sns.regplot(x = df['Valor_total'], y = df['Media_Valor'], scatter = False, label =\"Linha de regressão\", color = \"red\")\n",
    "\n",
    "plt.title('Scatterplot de Valor Total vs. Média de Valor')\n",
    "plt.xlabel('Valor Total', fontsize = 14)\n",
    "plt.ylabel('Média de Valor',  fontsize = 14)\n",
    "plt.grid(True)\n",
    "plt.tight_layout()\n",
    "\n",
    "plt.show()\n"
   ]
  },
  {
   "cell_type": "code",
   "execution_count": null,
   "metadata": {},
   "outputs": [],
   "source": [
    "sns.stripplot(x = 'Ano', y = 'Saldo', data = df_filtrado, hue = 'Clubes', palette = team_colors)\n",
    "plt.title(\"Distribuição dos clubes da serie A por valor de mercado ao longo dos anos\", size =15)\n",
    "plt.legend(title='Clubes', loc='upper center', bbox_to_anchor=(0.5, -0.15), ncol=3)\n",
    "\n",
    "plt.figure(figsize = (10,6))"
   ]
  },
  {
   "cell_type": "code",
   "execution_count": null,
   "metadata": {},
   "outputs": [],
   "source": [
    "sns.set_style(\"whitegrid\")\n",
    "\n",
    "plt.figure(figsize=(10, 6))\n",
    "\n",
    "sns.residplot(data=df, x='GolsMarcados', y='GolsSofridos', lowess=True, color = 'green')\n",
    "\n",
    "# Adicionar título e rótulos dos eixos\n",
    "plt.title(\"Relação entre gols marcados e gols sofridos\", fontsize=20)\n",
    "plt.xlabel(\"Gols Marcados\")\n",
    "plt.ylabel(\"Gols Sofridos\")\n",
    "\n",
    "# Exibir o gráfico\n",
    "plt.show()\n"
   ]
  },
  {
   "cell_type": "code",
   "execution_count": null,
   "metadata": {},
   "outputs": [],
   "source": [
    "\n",
    "df_filtrado['Outras_Vitorias'] = df_filtrado['Vitorias'] * 0.75  \n",
    "\n",
    "sns.pairplot(df_filtrado[['Vitorias', 'Outras_Vitorias', 'Clubes']], hue='Clubes', palette = team_colors)\n",
    "\n",
    "\n",
    "plt.figure(figsize = (10,6))\n",
    "plt.show()\n"
   ]
  },
  {
   "cell_type": "code",
   "execution_count": null,
   "metadata": {},
   "outputs": [],
   "source": [
    "\n",
    "# Vamos assumir que seu DataFrame 'df' já inclui as colunas 'Vitorias', 'Outras_Vitorias', e 'Clubes'\n",
    "# A linha abaixo é apenas um exemplo se você precisar gerar uma outra coluna numérica fictícia para o exemplo\n",
    "df_filtrado['Outros_Empates'] = df_filtrado['Empates'] * 0.75  # Simulação de outra variável numérica\n",
    "\n",
    "# Usando pairplot no DataFrame inteiro\n",
    "sns.pairplot(df_filtrado[['Empates', 'Outros_Empates', 'Clubes']], hue='Clubes', palette = team_colors)\n",
    "\n",
    "\n",
    "plt.figure(figsize = (10,6))\n",
    "plt.show()\n"
   ]
  },
  {
   "cell_type": "code",
   "execution_count": null,
   "metadata": {},
   "outputs": [],
   "source": [
    "\n",
    "# Vamos assumir que seu DataFrame 'df' já inclui as colunas 'Vitorias', 'Outras_Vitorias', e 'Clubes'\n",
    "# A linha abaixo é apenas um exemplo se você precisar gerar uma outra coluna numérica fictícia para o exemplo\n",
    "df_filtrado['Outras_Derrotas'] = df_filtrado['Derrotas'] * 0.75  # Simulação de outra variável numérica\n",
    "\n",
    "# Usando pairplot no DataFrame inteiro\n",
    "sns.pairplot(df_filtrado[['Derrotas', 'Outras_Derrotas', 'Clubes']], hue='Clubes', palette = team_colors)\n",
    "\n",
    "\n",
    "plt.figure(figsize = (10,6))\n",
    "plt.show()\n"
   ]
  },
  {
   "cell_type": "markdown",
   "metadata": {},
   "source": [
    "# *Gráfico de sino* #"
   ]
  },
  {
   "cell_type": "code",
   "execution_count": null,
   "metadata": {},
   "outputs": [],
   "source": [
    "plt.figure(figsize=(7,5))\n",
    "agrupamento_df = df.groupby('Ano')['Valor_total'].sum().reset_index()\n",
    "\n",
    "plt.plot(agrupamento_df['Ano'], agrupamento_df['Valor_total'], marker = 'o', linewidth=2.5)\n",
    "plt.title(\"Valor de mercado da série A\", fontsize=20, \n",
    "          fontweight='bold', color='navy')\n",
    "plt.xlabel('Ano')\n",
    "plt.ylabel('Valor de mercado em bilhões de euros')\n",
    "plt.grid(True, which='both')\n",
    "\n",
    "plt.savefig('mercado_serie_a.png', dpi=300)  \n",
    "plt.show()\n"
   ]
  },
  {
   "cell_type": "code",
   "execution_count": null,
   "metadata": {},
   "outputs": [],
   "source": [
    "plt.figure(figsize=(10,6))\n",
    "\n",
    "agrupamento_df = df.groupby('Ano')['Qtd_Jogadores'].sum().reset_index()\n",
    "\n",
    "plt.plot(agrupamento_df['Ano'], agrupamento_df['Qtd_Jogadores'],\n",
    "          color = 'black', marker = 'o', linewidth=2.5)\n",
    "plt.title(\"Base de jogadores da série A\", fontsize=20, fontweight='bold', color='black')\n",
    "plt.xlabel('Ano', color = 'black')\n",
    "plt.ylabel('Quantidade de jogadores', color = 'black')\n",
    "plt.grid(True, which='both')\n",
    "\n",
    "plt.savefig('mercado_serie_a.png', dpi=300)  # Salva em alta resolução\n",
    "plt.show()\n"
   ]
  },
  {
   "cell_type": "code",
   "execution_count": null,
   "metadata": {},
   "outputs": [],
   "source": [
    "plt.figure(figsize=(10,6))\n",
    "\n",
    "agrupamento_df = df.groupby('Ano')['Estrangeiros'].sum().reset_index()\n",
    "\n",
    "plt.plot(agrupamento_df['Ano'], agrupamento_df['Estrangeiros'], \n",
    "         color = 'darkred', marker = 'o', linewidth=2.5)\n",
    "plt.title(\"Base de jogadores estrangeiros da série A\", fontsize=20, fontweight='bold', color='black')\n",
    "plt.xlabel('Ano', color = 'black')\n",
    "plt.ylabel('Número de jogadores estrangeiros', color = 'black')\n",
    "plt.grid(True, which='both')\n",
    "\n",
    "plt.savefig('mercado_serie_a.png', dpi=300)  # Salva em alta resolução\n",
    "plt.show()\n"
   ]
  },
  {
   "cell_type": "markdown",
   "metadata": {},
   "source": [
    "# *Gráfico de distribuição e variância* #"
   ]
  },
  {
   "cell_type": "code",
   "execution_count": null,
   "metadata": {},
   "outputs": [],
   "source": [
    "sns.jointplot(x ='Saldo', y = 'Valor_total', data = df, kind = 'reg', color = 'darkgreen')\n",
    "plt.figure(figsize=(18,9))\n",
    "plt.title(\"Gráfico de distrinuição e variância do saldo ao valor total\")"
   ]
  },
  {
   "cell_type": "markdown",
   "metadata": {},
   "source": [
    "# *Gráfico de Barra* #"
   ]
  },
  {
   "cell_type": "code",
   "execution_count": null,
   "metadata": {},
   "outputs": [],
   "source": [
    "cores_clubes = {\n",
    "    'SE Palmeiras': 'darkgreen',  \n",
    "    'CR Flamengo': 'darkred',   \n",
    "    'Atlético Mineiro': 'yellow', \n",
    "    'Fluminense FC': 'limegreen',  \n",
    "    'SC Corinthians': 'grey',  \n",
    "    'Athletico Paranaense': 'orange',\n",
    "      'São Paulo FC' : 'pink',\n",
    "      'Botafogo FR' : 'blue'\n",
    "}\n",
    "\n",
    "# Criando o gráfico\n",
    "sns.set_theme(style=\"whitegrid\")\n",
    "plt.figure(figsize=(14, 7))\n",
    "df_filtrado = df_jogador[df_jogador['Valor de mercado'] >= 13]\n",
    "sns.barplot(data = df_filtrado,x = 'Jogadores', y='Valor de mercado',\n",
    "             palette=cores_clubes, hue = 'Clube', alpha = 0.5, width=0.95)\n",
    "\n",
    "plt.title('Top 10 jogadores mais valorizados da serie A', size = 20)\n",
    "plt.xlabel('Jogadores', size = 14)\n",
    "plt.ylabel('Valor de Mercado (em milhões) de euros', size = 14)\n",
    "plt.xticks(rotation=45)  \n",
    "plt.legend(title='Clube', bbox_to_anchor=(1.05, 1), loc='upper left')  \n",
    "plt.tight_layout()  \n",
    "\n",
    "plt.show()"
   ]
  },
  {
   "cell_type": "code",
   "execution_count": null,
   "metadata": {},
   "outputs": [],
   "source": [
    "sns.displot(df_valor_time['%'], kde = True, bins = 15, color = 'darkgreen', edgecolor ='black')\n",
    "\n",
    "plt.title('Distribuição Percentual por Clube')\n",
    "plt.xlabel('Percentual (%)')\n",
    "plt.ylabel('Frequência')\n",
    "plt.show()"
   ]
  },
  {
   "cell_type": "code",
   "execution_count": null,
   "metadata": {},
   "outputs": [],
   "source": [
    "plt.figure(figsize=(10, 6))\n",
    "\n",
    "data_to_plot = df_valor_time.melt(id_vars=['Clube'],\n",
    "             value_vars=['Valor_2023', 'Valor_2024'], var_name='Ano', value_name='Valor')\n",
    "\n",
    "# Plotando o gráfico de barras\n",
    "sns.barplot(data=data_to_plot, x='Clube', y='Valor', hue='Ano', palette='dark')\n",
    "\n",
    "# Adicionando título e rótulos dos eixos\n",
    "plt.title(\"Valorização dos times da Série A (2023-2024)\", fontsize=20)\n",
    "plt.xlabel(\"Clube\", fontsize=14)\n",
    "plt.ylabel(\"Valor\", fontsize=14)\n",
    "\n",
    "# Exibindo o gráfico\n",
    "plt.legend(title='Ano', loc='upper right')\n",
    "plt.xticks(rotation=45)  \n",
    "plt.grid('darkgrid')\n",
    "plt.tight_layout()\n",
    "plt.show()\n"
   ]
  },
  {
   "cell_type": "code",
   "execution_count": null,
   "metadata": {},
   "outputs": [],
   "source": [
    "plt.figure(figsize=(10, 6))\n",
    "\n",
    "data_to_plot = df_filtrado.melt(id_vars=['Clubes'],\n",
    "             value_vars=['GolsMarcados', 'GolsSofridos'], var_name='Variancia', value_name='Gols')\n",
    "\n",
    "sns.barplot(data=data_to_plot, x='Clube', y='Gols', hue='Variancia', palette=team_colors)\n",
    "\n",
    "# Adicionando título e rótulos dos eixos\n",
    "plt.title(\"Valorização dos times da Série A (2023-2024)\", fontsize=20)\n",
    "plt.xlabel(\"Clube\", fontsize=14)\n",
    "plt.ylabel(\"Valor\", fontsize=14)\n",
    "\n",
    "# Exibindo o gráfico\n",
    "plt.legend(title='Ano', loc='upper right')\n",
    "plt.xticks(rotation=45)  \n",
    "plt.tight_layout()\n",
    "plt.show()\n"
   ]
  },
  {
   "cell_type": "code",
   "execution_count": null,
   "metadata": {},
   "outputs": [],
   "source": [
    "import seaborn as sns\n",
    "import matplotlib.pyplot as plt\n",
    "\n",
    "cores_clubes = {'SE Palmeiras': 'darkgreen', 'Fluminense FC': 'limegreen',\n",
    "                'CR Flamengo': 'darkred', 'Atlético Mineiro': 'yellow',\n",
    "                'SC Corinthians': 'grey', 'São Paulo FC': 'black'}\n",
    "\n",
    "sns.set_style(\"whitegrid\")\n",
    "\n",
    "plt.figure(figsize=(10, 6))\n",
    "\n",
    "# Filtrar os jogadores com valor de mercado superior a 13.1\n",
    "df_jogador_filtrado = df_jogador[df_jogador['Valor de mercado'] > 13.8]\n",
    "\n",
    "sns.barplot(data=df_jogador_filtrado, x='Jogadores', y='Valor de mercado',\n",
    " hue='Clube', palette=cores_clubes, dodge=False, linewidth=0)\n",
    "\n",
    "\n",
    "plt.xlabel('Jogadores')\n",
    "plt.ylabel('Valor de Mercado')\n",
    "plt.title('Top 10 Jogadores mais valorizados da Serie A', fontsize=20, fontweight='bold')\n",
    "plt.xticks(rotation=45)\n",
    "plt.tight_layout()\n",
    "plt.legend(bbox_to_anchor=(0.5, -0.45), loc='upper center', ncol=3)\n",
    "plt.show()\n"
   ]
  },
  {
   "cell_type": "code",
   "execution_count": null,
   "metadata": {},
   "outputs": [],
   "source": [
    "from matplotlib.ticker import FuncFormatter\n",
    "\n",
    "media_por_time = df.groupby('Clubes')['Media_Valor'].mean()\n",
    "\n",
    "# Exibir as medidas de centralidade e dispersão\n",
    "plt.figure(figsize=(10,6))\n",
    "media_por_time.sort_values().plot(kind='bar', color='darkblue')\n",
    "plt.title('Média de pontos por clube')\n",
    "plt.xlabel('Clubes')\n",
    "plt.ylabel('Média de pontos')\n",
    "\n",
    "# Definir o formato dos rótulos do eixo y para mostrar os valores sem a escala em milhões\n",
    "def formatar_milhoes(x, pos):\n",
    "    return f'{x/1e6:.1f}'\n",
    "\n",
    "formatter = FuncFormatter(formatar_milhoes)\n",
    "plt.gca().yaxis.set_major_formatter(formatter)\n",
    "\n",
    "plt.grid(axis='x')\n",
    "plt.show()\n"
   ]
  },
  {
   "cell_type": "markdown",
   "metadata": {},
   "source": [
    "##### Questão: \n",
    "    Quantidade de torcedores influencia no desempenho esportivo ?"
   ]
  },
  {
   "cell_type": "code",
   "execution_count": null,
   "metadata": {},
   "outputs": [],
   "source": [
    "import squarify\n",
    "\n",
    "\n",
    "# Supondo que 'df_torcida' já está carregado e tem as colunas corretas\n",
    "# Agrupando e somando os dados por clube\n",
    "maiores_torcidas = df_torcida.groupby('Clube').sum()\n",
    "\n",
    "# Definindo as cores para cada clube\n",
    "cores_clubes = {\n",
    "    'Flamengo': 'darkred',\n",
    "    'Corinthians': 'grey',\n",
    "    'São Paulo': 'pink',\n",
    "    'Palmeiras': 'darkgreen',\n",
    "    'Vasco': 'teal',\n",
    "    'Cruzeiro': 'darkblue',\n",
    "    'Grêmio': 'blue',  # A cor foi simplificada para 'blue'\n",
    "    'Atlético-MG': 'yellow',\n",
    "    'Bahia': 'lightblue',\n",
    "    'Internacional': 'red',  # A cor 'lightred' não existe, usei 'red'\n",
    "    'Fluminense': 'lightgreen',\n",
    "    'Santos': 'white',\n",
    "    'Botafogo': 'cyan',  # Define uma cor válida, 'grey'\n",
    "    'Sport': 'gold'\n",
    "}\n",
    "\n",
    "# Lista de cores extraída do dicionário baseado no índice do grupo\n",
    "cores = [cores_clubes[clube] for clube in maiores_torcidas.index]\n",
    "\n",
    "plt.figure(figsize=(10, 6))\n",
    "squarify.plot(sizes=maiores_torcidas['Percentual (%)'], label=[f'{index}\\n{value:.1f}%' for index, value in zip(maiores_torcidas.index, maiores_torcidas['Percentual (%)'])], color=cores, alpha=0.8)\n",
    "plt.title('Maiores torcidas do Brasil', size=24)\n",
    "plt.axis('off')\n",
    "\n",
    "# Criando uma legenda\n",
    "handles = [plt.Rectangle((0,0),1,1, color=cores_clubes[clube]) for clube in maiores_torcidas.index]\n",
    "plt.legend(handles, maiores_torcidas.index, loc=\"upper left\", fontsize='small', bbox_to_anchor=(1.05, 1))\n",
    "plt.subplots_adjust(left=0.1, right=0.85)  # Ajuste a margem direita para acomodar a legenda\n",
    "plt.show()\n"
   ]
  },
  {
   "cell_type": "markdown",
   "metadata": {},
   "source": [
    "##### Conclusão:"
   ]
  },
  {
   "cell_type": "markdown",
   "metadata": {},
   "source": [
    "##### Questão:\n",
    "    \"Existe algum padrão na distribuição de receita dos clubes ?\""
   ]
  },
  {
   "cell_type": "code",
   "execution_count": null,
   "metadata": {},
   "outputs": [],
   "source": [
    "dados_agrupados = dadosf1.groupby('tipo')[' receita'].sum().reset_index()\n",
    "\n",
    "# Calculando o total de receitas\n",
    "total_receitas = dados_agrupados[' receita'].sum()\n",
    "\n",
    "# Valores para o tamanho de cada retângulo\n",
    "sizes = dados_agrupados[' receita'].values\n",
    "labels = dados_agrupados['tipo'].apply(lambda x: str(x)).values\n",
    "percentages = [f\"{(value/total_receitas)*100:.2f}%\" for value in sizes]\n",
    "new_labels = [f\"{label}\\n({percent})\" for label, percent in zip(labels, percentages)]\n",
    "\n",
    "# Cores - gerando uma paleta de cores\n",
    "colors = plt.cm.Spectral(np.linspace(0, 1, len(labels)))\n",
    "\n",
    "# Criando o TreeMap\n",
    "plt.figure(figsize=(12, 8))\n",
    "squarify.plot(sizes=sizes, label=new_labels, color=colors, alpha=0.8)\n",
    "\n",
    "# Título do gráfico\n",
    "plt.title('Distribuição de Receita por Tipo')\n",
    "plt.axis('off')  # Desliga os eixos\n",
    "\n",
    "# Mostrar o gráfico\n",
    "plt.show()\n"
   ]
  },
  {
   "cell_type": "markdown",
   "metadata": {},
   "source": [
    "# *Relações entre os times* #"
   ]
  },
  {
   "cell_type": "code",
   "execution_count": null,
   "metadata": {},
   "outputs": [],
   "source": [
    "\n",
    "from sklearn.cluster import KMeans\n",
    "\n",
    "\n",
    "\n",
    "df_group = df[['Valor_total', 'Saldo']].copy()\n",
    "\n",
    "def classify_variation(lista):\n",
    "    if lista['Valor_total'] > 0 and lista['Saldo'] > 0:\n",
    "        return 'green'\n",
    "    else:\n",
    "        return 'red'\n",
    "\n",
    "    \n",
    "df_group['Variation'] = df_group.apply(classify_variation, axis=1)\n",
    "\n",
    "# Alterando para 2 clusters\n",
    "kmeans = KMeans(n_clusters=2, random_state=0)\n",
    "df_group['cluster'] = kmeans.fit_predict(df_group[['Valor_total', 'Saldo']])\n",
    "\n",
    "centroids = kmeans.cluster_centers_\n",
    "\n",
    "palette_colors = {\n",
    "    'blue': 'darkblue',\n",
    "    'green': 'darkgreen',\n",
    "    'red': 'darkred',\n",
    "}\n",
    "\n",
    "centroid_colors = ['darkred', 'darkgreen']  \n",
    "\n",
    "plt.figure(figsize=(14, 7))\n",
    "sns.scatterplot(data=df_group, x=\"Valor_total\", y=\"Saldo\", hue='Variation', style='Variation', palette=palette_colors)\n",
    "\n",
    "for i, centroid in enumerate(centroids):\n",
    "    plt.scatter(*centroid, color=centroid_colors[i], marker='^', s=150, label=f'Centroide {i+1}')\n",
    "\n",
    "plt.title('Variação entre o valor de mercado da equipe e seu desempenho', fontsize=20)\n",
    "plt.xlabel('Valor de mercado em milhões de euros', fontsize=16)\n",
    "plt.ylabel('Saldo', fontsize=16)\n",
    "plt.legend()\n",
    "plt.grid(True)\n",
    "plt.show()\n"
   ]
  },
  {
   "cell_type": "code",
   "execution_count": null,
   "metadata": {},
   "outputs": [],
   "source": [
    "team_colors = {\n",
    "    'palmeiras': 'forestgreen',\n",
    "    'flamengo': 'darkred',\n",
    "    'corinthians': 'black',\n",
    "    'fluminense': 'darkorange',\n",
    "    'internacional': 'mediumblue',\n",
    "    'sao paulo': 'blue',\n",
    "    'atletico mineiro': 'yellow',\n",
    "    'gremio': 'darkblue',\n",
    "    'bragantino': 'lightblue',\n",
    "    'botafogo': 'grey',\n",
    "    'vasco': 'purple',\n",
    "    'athletico paranaense': 'red',\n",
    "    'cruzeiro': 'skyblue',\n",
    "    'bahia': 'orange',\n",
    "    'fortaleza': 'gold'\n",
    "}"
   ]
  },
  {
   "cell_type": "code",
   "execution_count": null,
   "metadata": {},
   "outputs": [],
   "source": [
    "df_valor_time['Variacao'] = df_valor_time['Valor_2024'] - df_valor_time['Valor_2023']\n",
    "variacao = df_valor_time.groupby('Clube')['Variacao'].mean()\n",
    "\n",
    "variacao = variacao.reset_index()  # Convertendo a série em DataFrame\n",
    "\n",
    "plt.figure(figsize=(8, 6))\n",
    "sns.barplot(x='Variacao', y='Clube', data=variacao, palette='RdYlGn')\n",
    "\n",
    "plt.title('Variação do valor de mercado (2023-2024)')\n",
    "plt.xlabel('Variação de valor de mercado (em milhões de euros)')\n",
    "plt.ylabel('Clubes')\n",
    "plt.grid(axis='x')\n",
    "plt.show()"
   ]
  },
  {
   "cell_type": "code",
   "execution_count": null,
   "metadata": {},
   "outputs": [],
   "source": [
    "from sklearn.cluster import KMeans\n",
    "\n",
    "# Suponha que df_4 já exista e contenha as colunas 'Valor_2024' e '%'\n",
    "df_group = df_valor_time[['Valor_2024', '%']].copy()\n",
    "\n",
    "# Adiciona uma nova coluna para classificar as variações\n",
    "def classify_variation(x):\n",
    "    if -10 <= x <= 10:\n",
    "        return 'neutra'\n",
    "    elif x < 0:\n",
    "        return 'negativa'\n",
    "    else:\n",
    "        return 'positiva'\n",
    "\n",
    "df_group['Variation'] = df_group['%'].apply(classify_variation)\n",
    "\n",
    "# Aplica KMeans\n",
    "kmeans = KMeans(n_clusters=3, random_state=0)\n",
    "df_group['cluster'] = kmeans.fit_predict(df_group[['Valor_2024', '%']])\n",
    "\n",
    "# Mapeamento de cores baseado na coluna 'Variation'\n",
    "palette_colors = {\n",
    "    'positiva': 'green',\n",
    "    'negativa': 'red',\n",
    "    'neutra': 'yellow'\n",
    "}\n",
    "\n",
    "# Plotando\n",
    "plt.figure(figsize=(12, 6))\n",
    "sns.scatterplot(data=df_group, x=\"Valor_2024\", y=\"%\", hue='Variation', style='Variation', palette=palette_colors)\n",
    "plt.title(\"Valorização dos times da série A\")\n",
    "plt.show()\n"
   ]
  },
  {
   "cell_type": "markdown",
   "metadata": {},
   "source": [
    "### *Valor dos jogadores* ###"
   ]
  },
  {
   "cell_type": "code",
   "execution_count": null,
   "metadata": {},
   "outputs": [],
   "source": [
    "plt.figure(figsize=(16, 8))  \n",
    "sns.set(style = 'whitegrid')\n",
    "sns.set_context(\"talk\")\n",
    "\n",
    "sns.scatterplot(data=df_jogador, x=\"Clube\", y=\"%\", \n",
    "                alpha=0.7, s=300, size = 'Diferença')  \n",
    "plt.title('Clubes que mais se valorizaram', size=24)  \n",
    "plt.xlabel('Clubes', size=18) \n",
    "plt.ylabel('Percentual', size=18)  \n",
    "plt.xticks(rotation=45)  \n",
    "plt.grid(axis='y', linestyle='--', alpha=0.7) \n",
    "sns.despine()\n",
    "plt.tight_layout()  \n",
    "plt.show()\n",
    "\n"
   ]
  },
  {
   "cell_type": "markdown",
   "metadata": {},
   "source": [
    "## Conclusão"
   ]
  },
  {
   "cell_type": "markdown",
   "metadata": {},
   "source": [
    "resumir os resultados encontrados e explicar por que são importantes. Apontar limitações, trabalhos futuros e melhorias que podem ser feitas."
   ]
  }
 ],
 "metadata": {
  "kernelspec": {
   "display_name": "Python 3 (ipykernel)",
   "language": "python",
   "name": "python3"
  },
  "language_info": {
   "codemirror_mode": {
    "name": "ipython",
    "version": 3
   },
   "file_extension": ".py",
   "mimetype": "text/x-python",
   "name": "python",
   "nbconvert_exporter": "python",
   "pygments_lexer": "ipython3",
   "version": "3.11.5"
  }
 },
 "nbformat": 4,
 "nbformat_minor": 2
}

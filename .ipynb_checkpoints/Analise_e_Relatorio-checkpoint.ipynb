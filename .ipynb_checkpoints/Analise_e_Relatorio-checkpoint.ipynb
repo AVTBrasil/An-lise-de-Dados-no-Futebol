{
 "cells": [
  {
   "cell_type": "markdown",
   "metadata": {},
   "source": [
    "#                    Análise de Dados no Futebol #"
   ]
  },
  {
   "cell_type": "markdown",
   "metadata": {},
   "source": [
    "### Integrantes do projeto:\n",
    "\n",
    "    Antônio Victor\n",
    "    Eduardo Gomes Meneses Filho\n",
    "    Jéssica Rangel de Jesus\n",
    "    Rafael Lima Barbosa"
   ]
  },
  {
   "cell_type": "markdown",
   "metadata": {},
   "source": [
    "##                    1. Motivação e Objetivos da Análise"
   ]
  },
  {
   "cell_type": "markdown",
   "metadata": {},
   "source": [
    "   Sendo um esporte de alto rendimento, o futebol exige uma abordagem estratégica em sua tomada de decisão para garantir o sucesso tanto dentro quanto fora de campo. E, para isso, a análise dos resultados de desempenho dos times, dos investimentos realizados e das receitas acumuladas é fundamental.\n",
    "   Neste projeto, buscamos analisar o comportamento das receitas dos clubes, a variação de valor de mercado dos jogadores de times brasileiros e comparar como o engajamento dos torcedores afetam os clubes brasileiros em relação a performance esportiva e a gestão financeira a longo prazo."
   ]
  },
  {
   "cell_type": "markdown",
   "metadata": {},
   "source": [
    "##                    2. Datasets Utilizados"
   ]
  },
  {
   "cell_type": "markdown",
   "metadata": {},
   "source": [
    "Foram utilizados arquivos CSV organizados como: \n",
    "    \n",
    "    - Dados dos Clubes:\n",
    "        - Tabelas_clube\n",
    "        \n",
    "    - Dados Financeiros:\n",
    "        - Receitas_do_Futebol\n",
    "        - Valor_time\n",
    "        - Valor_Jogador\n",
    "        \n",
    "    - Dados de Torcidas:\n",
    "        - Torcida.csv"
   ]
  },
  {
   "cell_type": "markdown",
   "metadata": {},
   "source": [
    "    Para a visualização das tabelas a seguir, foi utilizado a biblioteca \"pandas\""
   ]
  },
  {
   "cell_type": "code",
   "execution_count": null,
   "metadata": {},
   "outputs": [],
   "source": [
    "import pandas as pd"
   ]
  },
  {
   "cell_type": "markdown",
   "metadata": {},
   "source": [
    "###   2.1.1 Dados dos Clubes"
   ]
  },
  {
   "cell_type": "markdown",
   "metadata": {},
   "source": [
    "    A seguir, faremos a importação e visualização dos respectivos datasets que estão localizados no github:"
   ]
  },
  {
   "cell_type": "code",
   "execution_count": null,
   "metadata": {},
   "outputs": [],
   "source": [
    "#Importação dos dados\n",
    "url = 'https://github.com/AVTBrasil/An-lise-de-Dados-no-Futebol/raw/main/tabela_clubes.csv'\n",
    "dados = pd.read_csv(url)\n",
    "dados.head()"
   ]
  },
  {
   "cell_type": "markdown",
   "metadata": {},
   "source": [
    "### 2.1.2 Dados Financeiros"
   ]
  },
  {
   "cell_type": "code",
   "execution_count": null,
   "metadata": {},
   "outputs": [],
   "source": [
    "#Importação dos dados\n",
    "url = 'https://github.com/AVTBrasil/An-lise-de-Dados-no-Futebol/raw/main/receitas_do_futebol.csv'\n",
    "dadosf1 = pd.read_csv(url)\n",
    "dadosf1.head()"
   ]
  },
  {
   "cell_type": "code",
   "execution_count": null,
   "metadata": {},
   "outputs": [],
   "source": [
    "#Importação dos dados\n",
    "url = 'https://github.com/AVTBrasil/An-lise-de-Dados-no-Futebol/raw/main/valor_time.csv'\n",
    "dadosf2 = pd.read_csv(url)\n",
    "dadosf2.head()"
   ]
  },
  {
   "cell_type": "code",
   "execution_count": null,
   "metadata": {},
   "outputs": [],
   "source": [
    "#Importação dos dados\n",
    "url = 'https://github.com/AVTBrasil/An-lise-de-Dados-no-Futebol/raw/main/Valor_Jogador.csv'\n",
    "dadosf3 = pd.read_csv(url)\n",
    "dadosf3.head()"
   ]
  },
  {
   "cell_type": "markdown",
   "metadata": {},
   "source": [
    "### 2.1.3 Dados de Torcida"
   ]
  },
  {
   "cell_type": "code",
   "execution_count": null,
   "metadata": {},
   "outputs": [],
   "source": [
    "#Importação dos dados\n",
    "url = 'https://github.com/AVTBrasil/An-lise-de-Dados-no-Futebol/raw/main/Torcida.csv'\n",
    "dadost = pd.read_csv(url)\n",
    "dadost.head()"
   ]
  },
  {
   "cell_type": "markdown",
   "metadata": {},
   "source": [
    "##         3. Pré- processamento: Limpeza e transformação dos datasets"
   ]
  },
  {
   "cell_type": "markdown",
   "metadata": {},
   "source": [
    "    O dataset que necessitou de limpeza antes de sua utilização foi o referente aos dados dos clubes. Nele, fizemos a limpeza de colunas e removemos alguns clubes que apareceram até 3 vezes no arquivo, o que não influenciaria na nossa busca."
   ]
  },
  {
   "cell_type": "code",
   "execution_count": null,
   "metadata": {},
   "outputs": [],
   "source": [
    "dados = dados.drop(dados.columns[13:17], axis = 1)"
   ]
  },
  {
   "cell_type": "code",
   "execution_count": null,
   "metadata": {},
   "outputs": [],
   "source": [
    "# Contagem de quantas vezes cada time aparece na coluna 'Clubes'\n",
    "contagem_times = dados['Clubes'].value_counts()\n",
    "\n",
    "print(contagem_times)"
   ]
  },
  {
   "cell_type": "code",
   "execution_count": null,
   "metadata": {},
   "outputs": [],
   "source": [
    "\n",
    "dados = dados[~dados['Clubes'].isin(['Guarani', 'Nautico','Joinville', 'Prudente', 'Portuguesa', 'Santo Andre', 'Criciuma', 'Avai', \"Coritiba\", 'Figueirense' ])]\n"
   ]
  },
  {
   "cell_type": "markdown",
   "metadata": {},
   "source": [
    "    A seguir, a visualização da tabela após a limpeza de dados desnecessários:"
   ]
  },
  {
   "cell_type": "code",
   "execution_count": null,
   "metadata": {},
   "outputs": [],
   "source": [
    "dados"
   ]
  },
  {
   "cell_type": "markdown",
   "metadata": {},
   "source": [
    "    Para a visualização dos dados, foram utilizadas as seguintes bibliotecas:"
   ]
  },
  {
   "cell_type": "code",
   "execution_count": null,
   "metadata": {},
   "outputs": [],
   "source": [
    "#Importação das bibliotecas \n",
    "import matplotlib.pyplot as plt\n",
    "import numpy as np\n",
    "import seaborn as sns\n",
    "import plotly.express as px\n",
    "import squarify"
   ]
  },
  {
   "cell_type": "markdown",
   "metadata": {},
   "source": [
    "    Nesta parte, houve a seleção de cores que serão utilizadas nos gráficos."
   ]
  },
  {
   "cell_type": "code",
   "execution_count": null,
   "metadata": {},
   "outputs": [],
   "source": [
    "team_colors = {\n",
    "    \"Palmeiras\": \"#004D40\",  # Verde Escuro\n",
    "    \"Flamengo\": \"#B71C1C\",  # Vermelho Escuro\n",
    "    \"Corinthians\": \"#0D1321\",  # Preto\n",
    "    \"Sao Paulo\": \"#D32F2F\",  # Vermelho\n",
    "    \"Santos\": \"dimgray\",  # Cinza escuro\n",
    "    \"Gremio\": \"blue\",  # Azul\n",
    "    \"Vasco\": \"grey\",  # Cinza\n",
    "    \"Botafogo\": \"#000000\",  # Preto\n",
    "    \"Atletico-MG\": \"#FDD017\",  # Amarelo\n",
    "    \"Cruzeiro\": \"#0033A0\",  # Azul Escuro\n",
    "}"
   ]
  },
  {
   "cell_type": "markdown",
   "metadata": {},
   "source": [
    "    Aqui foi concluído a limpeza do dataset, a importação das bibliotecas utilizadas para a visualização e a seleção de \n",
    "    cores dos gráficos que serão criados."
   ]
  },
  {
   "cell_type": "markdown",
   "metadata": {},
   "source": [
    "## 4. Questões Investigadas"
   ]
  },
  {
   "cell_type": "markdown",
   "metadata": {},
   "source": [
    "    Questões investigadas:\n",
    "    1) \"Existe algum padrão na distribuição de receita dos clubes ?\"\n",
    "    2) \"O que é analisado em um jogador para ele ser valorizado pelo mercado?\"\n",
    "    3) \"Quantidade de torcedores influencia no desempenho esportivo ?\""
   ]
  },
  {
   "cell_type": "markdown",
   "metadata": {},
   "source": [
    "### *Existe algum padrão na distribuição de receita dos clubes ?*"
   ]
  },
  {
   "cell_type": "code",
   "execution_count": null,
   "metadata": {},
   "outputs": [],
   "source": [
    "plt.figure(figsize=(10, 6))\n",
    "\n",
    "data_to_plot = dadosf2.melt(id_vars=['Clube'],\n",
    "             value_vars=['Valor_2023', 'Valor_2024'], var_name='Ano', value_name='Valor')\n",
    "\n",
    "# Plotando o gráfico de barras\n",
    "sns.barplot(data=data_to_plot, x='Clube', y='Valor', hue='Ano', palette='dark')\n",
    "\n",
    "# Adicionando título e rótulos dos eixos\n",
    "plt.title(\"Valorização dos times da Série A (2023-2024)\", fontsize=20)\n",
    "plt.xlabel(\"Clube\", fontsize=14)\n",
    "plt.ylabel(\"Valor\", fontsize=14)\n",
    "\n",
    "# Exibindo o gráfico\n",
    "plt.legend(title='Ano', loc='upper right')\n",
    "plt.xticks(rotation=45)  \n",
    "plt.grid('darkgrid')\n",
    "plt.tight_layout()\n",
    "plt.show()"
   ]
  },
  {
   "cell_type": "code",
   "execution_count": null,
   "metadata": {},
   "outputs": [],
   "source": [
    "dados_agrupados = dadosf1.groupby('tipo')[' receita'].sum().reset_index()\n",
    "\n",
    "# Calculando o total de receitas\n",
    "total_receitas = dados_agrupados[' receita'].sum()\n",
    "\n",
    "# Valores para o tamanho de cada retângulo\n",
    "sizes = dados_agrupados[' receita'].values\n",
    "labels = dados_agrupados['tipo'].apply(lambda x: str(x)).values\n",
    "percentages = [f\"{(value/total_receitas)*100:.2f}%\" for value in sizes]\n",
    "new_labels = [f\"{label}\\n({percent})\" for label, percent in zip(labels, percentages)]\n",
    "\n",
    "# Cores - gerando uma paleta de cores\n",
    "colors = plt.cm.Spectral(np.linspace(0, 1, len(labels)))\n",
    "\n",
    "# Criando o TreeMap\n",
    "plt.figure(figsize=(12, 8))\n",
    "squarify.plot(sizes=sizes, label=new_labels, color=colors, alpha=0.8)\n",
    "\n",
    "# Título do gráfico\n",
    "plt.title('Distribuição de Receita por Tipo')\n",
    "plt.axis('off')  # Desliga os eixos\n",
    "\n",
    "# Mostrar o gráfico\n",
    "plt.show()"
   ]
  },
  {
   "cell_type": "code",
   "execution_count": null,
   "metadata": {},
   "outputs": [],
   "source": [
    "plt.show()"
   ]
  },
  {
   "cell_type": "markdown",
   "metadata": {},
   "source": [
    "### *O que é analisado em um jogador para ele ser valorizado pelo mercado?*"
   ]
  },
  {
   "cell_type": "code",
   "execution_count": null,
   "metadata": {},
   "outputs": [],
   "source": [
    "cores_clubes = {'SE Palmeiras': 'darkgreen', 'Fluminense FC': 'limegreen',\n",
    "                'CR Flamengo': 'darkred', 'Atlético Mineiro': 'yellow',\n",
    "                'SC Corinthians': 'grey', 'São Paulo FC': 'black'}\n",
    "\n",
    "sns.set_style(\"whitegrid\")\n",
    "\n",
    "plt.figure(figsize=(10, 6))\n",
    "\n",
    "df_jogador_filtrado = dadosf3[dadosf3['Valor de mercado'] > 13.8]\n",
    "\n",
    "sns.barplot(data=df_jogador_filtrado, x='Jogadores', y='Valor de mercado',\n",
    " hue='Clube', palette=cores_clubes, dodge=False, linewidth=0)\n",
    "\n",
    "\n",
    "plt.xlabel('Jogadores')\n",
    "plt.ylabel('Valor de Mercado')\n",
    "plt.title('Top 10 Jogadores mais valorizados da Serie A', fontsize=20, fontweight='bold')\n",
    "plt.xticks(rotation=45)\n",
    "plt.tight_layout()\n",
    "plt.legend(bbox_to_anchor=(0.5, -0.45), loc='upper center', ncol=3)\n",
    "plt.show()\n"
   ]
  },
  {
   "cell_type": "markdown",
   "metadata": {},
   "source": [
    "### *Quantidade de torcedores influencia no desempenho esportivo?*"
   ]
  },
  {
   "cell_type": "code",
   "execution_count": null,
   "metadata": {},
   "outputs": [],
   "source": [
    "import squarify\n",
    "\n",
    "maiores_torcidas = dadost.groupby('Clube').sum()\n",
    "\n",
    "cores_clubes = {\n",
    "    'Flamengo': 'darkred',\n",
    "    'Corinthians': 'grey',\n",
    "    'São Paulo': 'pink',\n",
    "    'Palmeiras': 'darkgreen',\n",
    "    'Vasco': 'teal',\n",
    "    'Cruzeiro': 'darkblue',\n",
    "    'Grêmio': 'blue',  \n",
    "    'Atlético-MG': 'yellow',\n",
    "    'Bahia': 'lightblue',\n",
    "    'Internacional': 'red',  \n",
    "    'Fluminense': 'lightgreen',\n",
    "    'Santos': 'darkgrey',\n",
    "    'Botafogo': 'cyan',  \n",
    "    'Sport': 'gold'\n",
    "}\n",
    "\n",
    "cores = [cores_clubes[clube] for clube in maiores_torcidas.index]\n",
    "\n",
    "plt.figure(figsize=(10, 6))\n",
    "squarify.plot(sizes=maiores_torcidas['Percentual (%)'], label=[f'{index}\\n{value:.1f}%' for index, value in zip(maiores_torcidas.index, maiores_torcidas['Percentual (%)'])], color=cores, alpha=0.8)\n",
    "plt.title('Maiores torcidas do Brasil', size=24)\n",
    "plt.axis('off')\n",
    "\n",
    "handles = [plt.Rectangle((0,0),1,1, color=cores_clubes[clube]) for clube in maiores_torcidas.index]\n",
    "plt.legend(handles, maiores_torcidas.index, loc=\"upper left\", fontsize='small', bbox_to_anchor=(1.05, 1))\n",
    "plt.subplots_adjust(left=0.1, right=0.85)  \n",
    "plt.show()\n"
   ]
  },
  {
   "cell_type": "markdown",
   "metadata": {},
   "source": [
    "## Conclusão"
   ]
  },
  {
   "cell_type": "markdown",
   "metadata": {},
   "source": [
    "resumir os resultados encontrados e explicar por que são importantes. Apontar limitações, trabalhos futuros e melhorias que podem ser feitas."
   ]
  }
 ],
 "metadata": {
  "kernelspec": {
   "display_name": "Python 3 (ipykernel)",
   "language": "python",
   "name": "python3"
  },
  "language_info": {
   "codemirror_mode": {
    "name": "ipython",
    "version": 3
   },
   "file_extension": ".py",
   "mimetype": "text/x-python",
   "name": "python",
   "nbconvert_exporter": "python",
   "pygments_lexer": "ipython3",
   "version": "3.11.5"
  }
 },
 "nbformat": 4,
 "nbformat_minor": 2
}
